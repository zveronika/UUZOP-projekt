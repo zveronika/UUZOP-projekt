{
 "cells": [
  {
   "cell_type": "markdown",
   "id": "1b0ad6f0",
   "metadata": {},
   "source": [
    "Sveučilište u Zagrebu  \n",
    "Fakultet elektrotehnike i računarstva  \n",
    "  \n",
    "## Uvod u znanost o podacima 2023/2024 \n",
    "https://www.fer.unizg.hr/predmet/uuzop"
   ]
  },
  {
   "cell_type": "markdown",
   "id": "3c1d75af",
   "metadata": {},
   "source": [
    "------------------------------\n",
    "\n",
    "### Projekt: Early-Stage Alzheimer's Disease Prediction Using Machine Learning Models\n",
    "\n",
    "*https://www.frontiersin.org/articles/10.3389/fpubh.2022.853294/full*\n",
    "\n",
    "**Veronika Žunar, 0036525058**\n",
    "\n",
    "------------------------------"
   ]
  },
  {
   "cell_type": "code",
   "execution_count": null,
   "id": "dde85545",
   "metadata": {},
   "outputs": [],
   "source": []
  }
 ],
 "metadata": {
  "kernelspec": {
   "display_name": "Python 3",
   "language": "python",
   "name": "python3"
  },
  "language_info": {
   "codemirror_mode": {
    "name": "ipython",
    "version": 3
   },
   "file_extension": ".py",
   "mimetype": "text/x-python",
   "name": "python",
   "nbconvert_exporter": "python",
   "pygments_lexer": "ipython3",
   "version": "3.8.8"
  }
 },
 "nbformat": 4,
 "nbformat_minor": 5
}
